{
 "cells": [
  {
   "cell_type": "code",
   "execution_count": null,
   "id": "e8b2482c",
   "metadata": {},
   "outputs": [],
   "source": [
    "from google.colab import drive\n",
    "drive.mount('/content/drive')"
   ]
  },
  {
   "cell_type": "code",
   "execution_count": null,
   "id": "eaed6820",
   "metadata": {},
   "outputs": [],
   "source": [
    "!git clone https://github.com/vandahalasi/BRAIN2SPEECH_LesssGoo.git"
   ]
  },
  {
   "cell_type": "code",
   "execution_count": null,
   "id": "8f7ea4df",
   "metadata": {},
   "outputs": [],
   "source": [
    "!git submodule init\n",
    "!git submodule update"
   ]
  },
  {
   "cell_type": "code",
   "execution_count": 4,
   "id": "0e93fe2a",
   "metadata": {},
   "outputs": [],
   "source": [
    "import LSTM\n",
    "from create_dataloaders import get_data, create_datasets, create_dataloaders\n",
    "from torch.optim import Adam\n",
    "from torch.nn import MSELoss\n",
    "from tqdm import tqdm"
   ]
  },
  {
   "cell_type": "markdown",
   "id": "15b8a023",
   "metadata": {},
   "source": [
    "## Variables"
   ]
  },
  {
   "cell_type": "code",
   "execution_count": null,
   "id": "a66baffa",
   "metadata": {},
   "outputs": [],
   "source": [
    "#Training variables\n",
    "EPOCH = 10\n",
    "Window_size = 1\n",
    "Batch_size = 64\n",
    "Learning_rate = 0.01\n",
    "device = \"gpu\""
   ]
  },
  {
   "cell_type": "markdown",
   "id": "f25b34d8",
   "metadata": {},
   "source": [
    "### Create dataloaders:"
   ]
  },
  {
   "cell_type": "code",
   "execution_count": 6,
   "id": "e5a610f7",
   "metadata": {},
   "outputs": [],
   "source": [
    "spectogram_train, spectogram_val, spectogram_test, features_train, features_val, features_test = get_data(r\"drive/MyDrive/BRAIN2SPEECH/features\")\n",
    "# Only need to be run if train_stats.json is missing\n",
    "# write_statistics_to_json(features_train)\n",
    "train_dataset, val_dataset, test_dataset = create_datasets(spectogram_train, spectogram_val, \n",
    "        spectogram_test, features_train, features_val, features_test, window=Window_size)\n",
    "train_loader, val_loader, test_loader = create_dataloaders(train_dataset, val_dataset, \n",
    "        test_dataset, batch_size=Batch_size)"
   ]
  },
  {
   "cell_type": "markdown",
   "id": "02aed864",
   "metadata": {},
   "source": [
    "## Training function"
   ]
  },
  {
   "cell_type": "code",
   "execution_count": 9,
   "id": "703071c0",
   "metadata": {},
   "outputs": [],
   "source": [
    "model = LSTM.SpectogramLSTM(input_size=4860, hidden_size=4860)\n",
    "criterion = MSELoss()\n",
    "optimizer = Adam(model.parameters(), lr=Learning_rate)"
   ]
  },
  {
   "cell_type": "code",
   "execution_count": 10,
   "id": "aaa07099",
   "metadata": {},
   "outputs": [],
   "source": [
    "def train(EPOCH, model, train_loader, val_loader, criterion, optimizer):\n",
    "    sum_loss = 0\n",
    "    val_loss = 0\n",
    "    for epoch in range(EPOCH):\n",
    "        model.train()\n",
    "        sum_loss = 0\n",
    "        for in_t, target in tqdm(train_loader):\n",
    "            outputs = model.forward(in_t)\n",
    "            optimizer.zero_grad()\n",
    "            \n",
    "            loss = criterion(outputs, target)\n",
    "            \n",
    "            loss.backward()\n",
    "            \n",
    "            optimizer.step()\n",
    "            sum_loss += loss.item()\n",
    "\n",
    "        if epoch % 1 == 0:\n",
    "            print(f\"Epoch: {epoch}, loss: {sum_loss}\") \n",
    "        \n",
    "        for in_v, target_v in val_loader:\n",
    "            outputs = model.forward(in_v)\n",
    "            v_loss = criterion(outputs, target_v)\n",
    "            val_loss += v_loss.item()\n",
    "\n",
    "        print(f\"Validation loss: {v_loss.item()}\")"
   ]
  },
  {
   "cell_type": "code",
   "execution_count": 11,
   "id": "eb92e3f3",
   "metadata": {},
   "outputs": [
    {
     "name": "stderr",
     "output_type": "stream",
     "text": [
      "  0%|          | 4/1875 [03:13<25:10:20, 48.43s/it]\n"
     ]
    },
    {
     "ename": "KeyboardInterrupt",
     "evalue": "",
     "output_type": "error",
     "traceback": [
      "\u001b[0;31m---------------------------------------------------------------------------\u001b[0m",
      "\u001b[0;31mKeyboardInterrupt\u001b[0m                         Traceback (most recent call last)",
      "\u001b[0;32m<ipython-input-11-80f7b0c700e8>\u001b[0m in \u001b[0;36m<module>\u001b[0;34m\u001b[0m\n\u001b[0;32m----> 1\u001b[0;31m \u001b[0mtrain\u001b[0m\u001b[0;34m(\u001b[0m\u001b[0mEPOCH\u001b[0m\u001b[0;34m,\u001b[0m \u001b[0mmodel\u001b[0m\u001b[0;34m,\u001b[0m \u001b[0mtrain_loader\u001b[0m\u001b[0;34m,\u001b[0m \u001b[0mval_loader\u001b[0m\u001b[0;34m,\u001b[0m \u001b[0mcriterion\u001b[0m\u001b[0;34m,\u001b[0m \u001b[0moptimizer\u001b[0m\u001b[0;34m)\u001b[0m\u001b[0;34m\u001b[0m\u001b[0;34m\u001b[0m\u001b[0m\n\u001b[0m",
      "\u001b[0;32m<ipython-input-10-a19a25fd77ff>\u001b[0m in \u001b[0;36mtrain\u001b[0;34m(EPOCH, model, train_loader, val_loader, criterion, optimizer)\u001b[0m\n\u001b[1;32m     11\u001b[0m             \u001b[0mloss\u001b[0m \u001b[0;34m=\u001b[0m \u001b[0mcriterion\u001b[0m\u001b[0;34m(\u001b[0m\u001b[0moutputs\u001b[0m\u001b[0;34m,\u001b[0m \u001b[0mtarget\u001b[0m\u001b[0;34m)\u001b[0m\u001b[0;34m\u001b[0m\u001b[0;34m\u001b[0m\u001b[0m\n\u001b[1;32m     12\u001b[0m \u001b[0;34m\u001b[0m\u001b[0m\n\u001b[0;32m---> 13\u001b[0;31m             \u001b[0mloss\u001b[0m\u001b[0;34m.\u001b[0m\u001b[0mbackward\u001b[0m\u001b[0;34m(\u001b[0m\u001b[0;34m)\u001b[0m\u001b[0;34m\u001b[0m\u001b[0;34m\u001b[0m\u001b[0m\n\u001b[0m\u001b[1;32m     14\u001b[0m \u001b[0;34m\u001b[0m\u001b[0m\n\u001b[1;32m     15\u001b[0m             \u001b[0moptimizer\u001b[0m\u001b[0;34m.\u001b[0m\u001b[0mstep\u001b[0m\u001b[0;34m(\u001b[0m\u001b[0;34m)\u001b[0m\u001b[0;34m\u001b[0m\u001b[0;34m\u001b[0m\u001b[0m\n",
      "\u001b[0;32m~/anaconda3/envs/kitchen/lib/python3.8/site-packages/torch/tensor.py\u001b[0m in \u001b[0;36mbackward\u001b[0;34m(self, gradient, retain_graph, create_graph)\u001b[0m\n\u001b[1;32m    219\u001b[0m                 \u001b[0mretain_graph\u001b[0m\u001b[0;34m=\u001b[0m\u001b[0mretain_graph\u001b[0m\u001b[0;34m,\u001b[0m\u001b[0;34m\u001b[0m\u001b[0;34m\u001b[0m\u001b[0m\n\u001b[1;32m    220\u001b[0m                 create_graph=create_graph)\n\u001b[0;32m--> 221\u001b[0;31m         \u001b[0mtorch\u001b[0m\u001b[0;34m.\u001b[0m\u001b[0mautograd\u001b[0m\u001b[0;34m.\u001b[0m\u001b[0mbackward\u001b[0m\u001b[0;34m(\u001b[0m\u001b[0mself\u001b[0m\u001b[0;34m,\u001b[0m \u001b[0mgradient\u001b[0m\u001b[0;34m,\u001b[0m \u001b[0mretain_graph\u001b[0m\u001b[0;34m,\u001b[0m \u001b[0mcreate_graph\u001b[0m\u001b[0;34m)\u001b[0m\u001b[0;34m\u001b[0m\u001b[0;34m\u001b[0m\u001b[0m\n\u001b[0m\u001b[1;32m    222\u001b[0m \u001b[0;34m\u001b[0m\u001b[0m\n\u001b[1;32m    223\u001b[0m     \u001b[0;32mdef\u001b[0m \u001b[0mregister_hook\u001b[0m\u001b[0;34m(\u001b[0m\u001b[0mself\u001b[0m\u001b[0;34m,\u001b[0m \u001b[0mhook\u001b[0m\u001b[0;34m)\u001b[0m\u001b[0;34m:\u001b[0m\u001b[0;34m\u001b[0m\u001b[0;34m\u001b[0m\u001b[0m\n",
      "\u001b[0;32m~/anaconda3/envs/kitchen/lib/python3.8/site-packages/torch/autograd/__init__.py\u001b[0m in \u001b[0;36mbackward\u001b[0;34m(tensors, grad_tensors, retain_graph, create_graph, grad_variables)\u001b[0m\n\u001b[1;32m    128\u001b[0m         \u001b[0mretain_graph\u001b[0m \u001b[0;34m=\u001b[0m \u001b[0mcreate_graph\u001b[0m\u001b[0;34m\u001b[0m\u001b[0;34m\u001b[0m\u001b[0m\n\u001b[1;32m    129\u001b[0m \u001b[0;34m\u001b[0m\u001b[0m\n\u001b[0;32m--> 130\u001b[0;31m     Variable._execution_engine.run_backward(\n\u001b[0m\u001b[1;32m    131\u001b[0m         \u001b[0mtensors\u001b[0m\u001b[0;34m,\u001b[0m \u001b[0mgrad_tensors_\u001b[0m\u001b[0;34m,\u001b[0m \u001b[0mretain_graph\u001b[0m\u001b[0;34m,\u001b[0m \u001b[0mcreate_graph\u001b[0m\u001b[0;34m,\u001b[0m\u001b[0;34m\u001b[0m\u001b[0;34m\u001b[0m\u001b[0m\n\u001b[1;32m    132\u001b[0m         allow_unreachable=True)  # allow_unreachable flag\n",
      "\u001b[0;31mKeyboardInterrupt\u001b[0m: "
     ]
    }
   ],
   "source": [
    "train(EPOCH, model, train_loader, val_loader, criterion, optimizer)"
   ]
  },
  {
   "cell_type": "markdown",
   "id": "2368df95",
   "metadata": {},
   "source": [
    "## Test function"
   ]
  },
  {
   "cell_type": "code",
   "execution_count": null,
   "id": "444a15b2",
   "metadata": {},
   "outputs": [],
   "source": [
    "def test(model, test_loader, criterion):\n",
    "    sum_loss = 0\n",
    "    for input_t, target in test_loader:\n",
    "        outputs = model.forward(input_t)\n",
    "        \n",
    "        loss = criterion(outputs, target)\n",
    "        sum_loss += loss.item()\n",
    "    print(f\"Test loss: {sum_loss}\")\n",
    "    return "
   ]
  },
  {
   "cell_type": "code",
   "execution_count": null,
   "id": "5c744b30",
   "metadata": {},
   "outputs": [],
   "source": [
    "test(model, test_loader, criterion)"
   ]
  }
 ],
 "metadata": {
  "kernelspec": {
   "display_name": "Python 3",
   "language": "python",
   "name": "python3"
  },
  "language_info": {
   "codemirror_mode": {
    "name": "ipython",
    "version": 3
   },
   "file_extension": ".py",
   "mimetype": "text/x-python",
   "name": "python",
   "nbconvert_exporter": "python",
   "pygments_lexer": "ipython3",
   "version": "3.8.8"
  }
 },
 "nbformat": 4,
 "nbformat_minor": 5
}
