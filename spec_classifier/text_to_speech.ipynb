{
 "cells": [
  {
   "cell_type": "code",
   "execution_count": 1,
   "id": "9fa86351-f74d-4f52-ab86-9148348c3bac",
   "metadata": {},
   "outputs": [
    {
     "name": "stdout",
     "output_type": "stream",
     "text": [
      "Collecting gtts\n",
      "  Downloading gTTS-2.3.0-py3-none-any.whl (26 kB)\n",
      "Requirement already satisfied: requests~=2.28.0 in c:\\users\\zsomb\\anaconda3\\lib\\site-packages (from gtts) (2.28.1)\n",
      "Collecting click~=8.1.3\n",
      "  Using cached click-8.1.3-py3-none-any.whl (96 kB)\n",
      "Requirement already satisfied: six~=1.16.0 in c:\\users\\zsomb\\anaconda3\\lib\\site-packages (from gtts) (1.16.0)\n",
      "Requirement already satisfied: colorama in c:\\users\\zsomb\\anaconda3\\lib\\site-packages (from click~=8.1.3->gtts) (0.4.5)\n",
      "Requirement already satisfied: certifi>=2017.4.17 in c:\\users\\zsomb\\anaconda3\\lib\\site-packages (from requests~=2.28.0->gtts) (2022.9.14)\n",
      "Requirement already satisfied: urllib3<1.27,>=1.21.1 in c:\\users\\zsomb\\anaconda3\\lib\\site-packages (from requests~=2.28.0->gtts) (1.26.11)\n",
      "Requirement already satisfied: idna<4,>=2.5 in c:\\users\\zsomb\\anaconda3\\lib\\site-packages (from requests~=2.28.0->gtts) (3.3)\n",
      "Requirement already satisfied: charset-normalizer<3,>=2 in c:\\users\\zsomb\\anaconda3\\lib\\site-packages (from requests~=2.28.0->gtts) (2.1.1)\n",
      "Installing collected packages: click, gtts\n",
      "  Attempting uninstall: click\n",
      "    Found existing installation: click 8.0.4\n",
      "    Uninstalling click-8.0.4:\n",
      "      Successfully uninstalled click-8.0.4\n",
      "Successfully installed click-8.1.3 gtts-2.3.0\n"
     ]
    }
   ],
   "source": [
    "!pip install gtts"
   ]
  },
  {
   "cell_type": "code",
   "execution_count": 4,
   "id": "9a407f45-4629-46a1-b9e1-1dbb3c459390",
   "metadata": {},
   "outputs": [],
   "source": [
    "def create_directory(dir_path: str):\n",
    "    \"\"\"Creates a directory if it is none existent.\"\"\"\n",
    "    isExist = os.path.exists(dir_path)\n",
    "    if not isExist:\n",
    "        os.makedirs(dir_path)\n",
    "        print(\"The new directory is created!\")\n",
    "        return\n",
    "    print(\"Directory already created.\")"
   ]
  },
  {
   "cell_type": "code",
   "execution_count": 5,
   "id": "71c5bee9-4b72-4883-be4d-e2c58cd2812e",
   "metadata": {},
   "outputs": [
    {
     "name": "stdout",
     "output_type": "stream",
     "text": [
      "The new directory is created!\n"
     ]
    }
   ],
   "source": [
    "from gtts import gTTS\n",
    "import os\n",
    "\n",
    "create_directory(\"data/generated\")\n",
    "mytext = 'Auf Wiedersehen'\n",
    "language = \"de\"\n",
    "output_name = \"generated_01.wav\"\n",
    "myobj = gTTS(text=mytext, lang=language, slow=False)\n",
    "myobj.save(os.path.join(\"data/generated\",output_name))"
   ]
  }
 ],
 "metadata": {
  "kernelspec": {
   "display_name": "Python 3 (ipykernel)",
   "language": "python",
   "name": "python3"
  },
  "language_info": {
   "codemirror_mode": {
    "name": "ipython",
    "version": 3
   },
   "file_extension": ".py",
   "mimetype": "text/x-python",
   "name": "python",
   "nbconvert_exporter": "python",
   "pygments_lexer": "ipython3",
   "version": "3.8.8"
  }
 },
 "nbformat": 4,
 "nbformat_minor": 5
}
