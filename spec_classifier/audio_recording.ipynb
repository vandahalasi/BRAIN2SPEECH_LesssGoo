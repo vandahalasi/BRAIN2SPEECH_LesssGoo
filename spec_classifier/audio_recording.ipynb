{
 "cells": [
  {
   "cell_type": "markdown",
   "id": "df67aa11-c9fc-4f89-a3b0-cee74ee84ee0",
   "metadata": {},
   "source": [
    "# Audio recording"
   ]
  },
  {
   "cell_type": "markdown",
   "id": "fe4de05e-edd9-4968-8d98-222125196b2a",
   "metadata": {},
   "source": [
    "With the help of this notebook you can populate the word dataset."
   ]
  },
  {
   "cell_type": "code",
   "execution_count": 1,
   "id": "2e6b8801-c8d9-4bcf-b7f3-3676e98fa9e6",
   "metadata": {},
   "outputs": [],
   "source": [
    "import pyaudio\n",
    "import wave\n",
    "import keyboard\n",
    "import threading as th\n",
    "import time\n",
    "import os\n",
    "import glob\n",
    "from uuid import uuid4\n",
    "import shutil"
   ]
  },
  {
   "cell_type": "code",
   "execution_count": 2,
   "id": "edd34d40-4a8c-4d37-8934-a3fc1784999c",
   "metadata": {},
   "outputs": [],
   "source": [
    "def create_directory(dir_path: str):\n",
    "    \"\"\"Creates a directory if it is none existent.\"\"\"\n",
    "    isExist = os.path.exists(dir_path)\n",
    "    if not isExist:\n",
    "        os.makedirs(dir_path)\n",
    "        print(\"The new directory is created!\")\n",
    "        return\n",
    "    print(\"Directory already created.\")"
   ]
  },
  {
   "cell_type": "code",
   "execution_count": 13,
   "id": "1d9730d0-cf76-4c11-8fbd-dffee45eeda2",
   "metadata": {},
   "outputs": [
    {
     "name": "stdout",
     "output_type": "stream",
     "text": [
      "Deleting tmp content\n",
      "Enter the world you will say.\n"
     ]
    },
    {
     "name": "stdin",
     "output_type": "stream",
     "text": [
      " cat\n"
     ]
    },
    {
     "name": "stdout",
     "output_type": "stream",
     "text": [
      "Press 's' key to start recording\n",
      "Press 'q' key to quit recording\n",
      "Starting audio recording.\n",
      "Finished recording. Saving audio.\n",
      "Directory already created.\n",
      "Directory already created.\n",
      "Splitting into parts\n",
      "Figure(640x480)\n",
      "output_0.800-1.800.wav\n",
      "output_2.050-3.600.wav\n",
      "output_4.450-6.050.wav\n",
      "output_6.850-8.150.wav\n"
     ]
    },
    {
     "name": "stderr",
     "output_type": "stream",
     "text": [
      "C:\\Users\\zsomb\\anaconda3\\lib\\site-packages\\pydub\\utils.py:170: RuntimeWarning: Couldn't find ffmpeg or avconv - defaulting to ffmpeg, but may not work\n",
      "  warn(\"Couldn't find ffmpeg or avconv - defaulting to ffmpeg, but may not work\", RuntimeWarning)\n"
     ]
    }
   ],
   "source": [
    "print(\"Deleting tmp content\")\n",
    "\n",
    "tmp_dir = \"data/tmp\"\n",
    "for path in os.listdir(tmp_dir):\n",
    "    if path == \".ipynb_checkpoints\":\n",
    "        continue\n",
    "    full_path = os.path.join(tmp_dir,path)\n",
    "    os.remove(full_path)\n",
    "\n",
    "chunk = 1024  # Record in chunks of 1024 samples\n",
    "sample_format = pyaudio.paInt16  # 16 bits per sample\n",
    "channels = 2\n",
    "fs = 16000  # Record at 16000 samples per second\n",
    "\n",
    "p = pyaudio.PyAudio()  # Create an interface to PortAudio\n",
    "\n",
    "print(\"Enter the world you will say.\")\n",
    "word = input()\n",
    "\n",
    "\n",
    "print(\"Press 's' key to start recording\")\n",
    "print(\"Press 'q' key to quit recording\")\n",
    "while(True):\n",
    "    if keyboard.is_pressed(\"s\"):\n",
    "        break\n",
    "    \n",
    "stream = p.open(format=sample_format,\n",
    "                channels=channels,\n",
    "                rate=fs,\n",
    "                frames_per_buffer=chunk,\n",
    "                input=True)\n",
    "\n",
    "frames = []  # Initialize array to store frames\n",
    "import threading as th\n",
    "\n",
    "keep_going = True\n",
    "def key_capture_thread():\n",
    "    global keep_going\n",
    "    while(True):\n",
    "        if keyboard.is_pressed(\"q\"):        \n",
    "            keep_going = False\n",
    "            break\n",
    "        time.sleep(0.01)\n",
    "\n",
    "th.Thread(target=key_capture_thread, args=(), name='key_capture_thread', daemon=True).start()\n",
    "\n",
    "print(\"Starting audio recording.\")\n",
    "while keep_going:\n",
    "    # Store data in chunks for 3 seconds\n",
    "    for i in range(0, int(fs / chunk)):\n",
    "        data = stream.read(chunk)\n",
    "        frames.append(data)\n",
    "\n",
    "# Stop and close the stream \n",
    "stream.stop_stream()\n",
    "stream.close()\n",
    "# Terminate the PortAudio interface\n",
    "p.terminate()\n",
    "\n",
    "print('Finished recording. Saving audio.')\n",
    "filename=os.path.join(tmp_dir,\"output.wav\")\n",
    "\n",
    "\n",
    "# Save the recorded data as a WAV file\n",
    "wf = wave.open(filename, 'wb')\n",
    "wf.setnchannels(channels)\n",
    "wf.setsampwidth(p.get_sample_size(sample_format))\n",
    "wf.setframerate(fs)\n",
    "wf.writeframes(b''.join(frames))\n",
    "wf.close()\n",
    "\n",
    "\n",
    "own_recordings_dir = \"data/own_recordings\"\n",
    "create_directory(own_recordings_dir)\n",
    "own_recordings_dir_class = os.path.join(own_recordings_dir,word)\n",
    "create_directory(own_recordings_dir_class)\n",
    "print(\"Splitting into parts\")\n",
    "!python pyAudioAnalysis/pyAudioAnalysis/audioAnalysis.py silenceRemoval -i data/tmp/output.wav --smoothing 1.0 --weight 0.3\n",
    "\n",
    "#Copying the recording parts into an organized folder\n",
    "for path in os.listdir(tmp_dir):\n",
    "    if path=='output.wav' or path==\".ipynb_checkpoints\":\n",
    "        continue\n",
    "    print(path)\n",
    "    id_ = str(uuid4())+\".wav\"\n",
    "    orig_full_path = os.path.join(tmp_dir,path)\n",
    "    new_full_path = os.path.join(tmp_dir,id_)\n",
    "    os.rename(orig_full_path,new_full_path)\n",
    "    shutil.copy2(new_full_path,own_recordings_dir_class)"
   ]
  }
 ],
 "metadata": {
  "kernelspec": {
   "display_name": "Python 3 (ipykernel)",
   "language": "python",
   "name": "python3"
  },
  "language_info": {
   "codemirror_mode": {
    "name": "ipython",
    "version": 3
   },
   "file_extension": ".py",
   "mimetype": "text/x-python",
   "name": "python",
   "nbconvert_exporter": "python",
   "pygments_lexer": "ipython3",
   "version": "3.8.8"
  }
 },
 "nbformat": 4,
 "nbformat_minor": 5
}
