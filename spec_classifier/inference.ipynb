{
 "cells": [
  {
   "cell_type": "markdown",
   "id": "e64fddfc-7d7b-4105-bf05-399bf8f9a0d3",
   "metadata": {},
   "source": [
    "# Inference the trained mode"
   ]
  },
  {
   "cell_type": "markdown",
   "id": "0057a088-911e-4c55-af36-bfe93a815a95",
   "metadata": {},
   "source": [
    "In this notebook you can try out a trained model."
   ]
  },
  {
   "cell_type": "code",
   "execution_count": 22,
   "id": "3885e368-5b86-4136-b5b6-4d89f7d0aae8",
   "metadata": {},
   "outputs": [],
   "source": [
    "import os\n",
    "import numpy as np\n",
    "import tensorflow as tf\n",
    "import pyaudio\n",
    "import keyboard\n",
    "import time\n",
    "import wave"
   ]
  },
  {
   "cell_type": "code",
   "execution_count": 23,
   "id": "a604058d-d5b2-4c16-af21-22dc0c88ff37",
   "metadata": {},
   "outputs": [],
   "source": [
    "def load_model(model_name):\n",
    "    model_path = os.path.join(\"models\",model_name)\n",
    "    return tf.saved_model.load(model_path)"
   ]
  },
  {
   "cell_type": "code",
   "execution_count": 24,
   "id": "e029e180-7595-41e7-9dc3-a9b1ac92a7d5",
   "metadata": {},
   "outputs": [],
   "source": [
    "model = load_model(\"spec_classifier_01\")"
   ]
  },
  {
   "cell_type": "code",
   "execution_count": 30,
   "id": "9ab08cb4-275d-4cfd-8ebb-6103dabd5ddb",
   "metadata": {},
   "outputs": [
    {
     "name": "stdout",
     "output_type": "stream",
     "text": [
      "Deleting tmp content\n",
      "Press 's' key to start recording\n",
      "Press 'q' key to quit recording\n",
      "Starting audio recording.\n",
      "Finished recording. Saving audio.\n",
      "Inferencing:\n",
      "[b'go']\n"
     ]
    }
   ],
   "source": [
    "print(\"Deleting tmp content\")\n",
    "tmp_dir = \"data/tmp\"\n",
    "for path in os.listdir(tmp_dir):\n",
    "    if path == \".ipynb_checkpoints\":\n",
    "        continue\n",
    "    full_path = os.path.join(tmp_dir,path)\n",
    "    os.remove(full_path)\n",
    "\n",
    "chunk = 1024  # Record in chunks of 1024 samples\n",
    "sample_format = pyaudio.paInt16  # 16 bits per sample\n",
    "channels = 2\n",
    "fs = 16000  # Record at 16000 samples per second\n",
    "\n",
    "p = pyaudio.PyAudio()  # Create an interface to PortAudio\n",
    "\n",
    "\n",
    "print(\"Press 's' key to start recording\")\n",
    "print(\"Press 'q' key to quit recording\")\n",
    "while(True):\n",
    "    if keyboard.is_pressed(\"s\"):\n",
    "        break\n",
    "    \n",
    "stream = p.open(format=sample_format,\n",
    "                channels=channels,\n",
    "                rate=fs,\n",
    "                frames_per_buffer=chunk,\n",
    "                input=True)\n",
    "\n",
    "frames = []  # Initialize array to store frames\n",
    "import threading as th\n",
    "\n",
    "keep_going = True\n",
    "def key_capture_thread():\n",
    "    global keep_going\n",
    "    while(True):\n",
    "        if keyboard.is_pressed(\"q\"):        \n",
    "            keep_going = False\n",
    "            break\n",
    "        time.sleep(0.01)\n",
    "\n",
    "th.Thread(target=key_capture_thread, args=(), name='key_capture_thread', daemon=True).start()\n",
    "\n",
    "print(\"Starting audio recording.\")\n",
    "while keep_going:\n",
    "    # Store data in chunks for 3 seconds\n",
    "    for i in range(0, int(fs / chunk)):\n",
    "        data = stream.read(chunk)\n",
    "        frames.append(data)\n",
    "\n",
    "# Stop and close the stream \n",
    "stream.stop_stream()\n",
    "stream.close()\n",
    "# Terminate the PortAudio interface\n",
    "p.terminate()\n",
    "\n",
    "print('Finished recording. Saving audio.')\n",
    "filename=os.path.join(tmp_dir,\"inference.wav\")\n",
    "\n",
    "\n",
    "# Save the recorded data as a WAV file\n",
    "wf = wave.open(filename, 'wb')\n",
    "wf.setnchannels(channels)\n",
    "wf.setsampwidth(p.get_sample_size(sample_format))\n",
    "wf.setframerate(fs)\n",
    "wf.writeframes(b''.join(frames))\n",
    "wf.close()\n",
    "\n",
    "print(\"Inferencing:\")\n",
    "result = model(filename)\n",
    "result = str(result['class_names'].numpy())\n",
    "print(result)"
   ]
  }
 ],
 "metadata": {
  "kernelspec": {
   "display_name": "Python 3 (ipykernel)",
   "language": "python",
   "name": "python3"
  },
  "language_info": {
   "codemirror_mode": {
    "name": "ipython",
    "version": 3
   },
   "file_extension": ".py",
   "mimetype": "text/x-python",
   "name": "python",
   "nbconvert_exporter": "python",
   "pygments_lexer": "ipython3",
   "version": "3.8.8"
  }
 },
 "nbformat": 4,
 "nbformat_minor": 5
}
